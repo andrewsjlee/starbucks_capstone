{
 "cells": [
  {
   "cell_type": "markdown",
   "metadata": {},
   "source": [
    "# Starbucks Capstone Challenge\n",
    "\n",
    "\n",
    "## Project Overview\n",
    "This project is an analysis of Starbucks promotion data. Starbucks periodically sends out offers to users of its mobile app in order to encourage customers to continue purchasing its products. An offer can be an advertisement for a drink or an offer such as a discount or BOGO (buy one get one free). Some users might not receive any offer during certain weeks.\n",
    "\n",
    "The primary objective of this analysis is to understand whether these promotional offers impact customer purchasing behavior.\n",
    "\n",
    "\n",
    "## Problem Statement\n",
    "I will use the provided data to determine how effective the promotions are in encouraging customers to buy Starbucks products. I will also try to understand which demographic subgroups respond better than others.\n",
    "\n",
    "In order to answer these questions I will employ a variant of an A/B test known as a within-subject analysis, comparing customers' purchasing behavior during the offer periods to their own pre-offer baselines.\n",
    "\n",
    "## Data Sets\n",
    "\n",
    "The data provided includes:\n",
    "\n",
    "* portfolio.json - containing offer ids and meta data about each offer (duration, type, etc.)\n",
    "* profile.json - demographic data for each customer\n",
    "* transcript.json - records for transactions, offers received, offers viewed, and offers completed\n",
    "\n",
    "Here is the schema and explanation of each variable in the files:\n",
    "\n",
    "**portfolio.json**\n",
    "* id (string) - offer id\n",
    "* offer_type (string) - type of offer ie BOGO, discount, informational\n",
    "* difficulty (int) - minimum required spend to complete an offer\n",
    "* reward (int) - reward given for completing an offer\n",
    "* duration (int) - time for offer to be open, in days\n",
    "* channels (list of strings)\n",
    "\n",
    "**profile.json**\n",
    "* age (int) - age of the customer \n",
    "* became_member_on (int) - date when customer created an app account\n",
    "* gender (str) - gender of the customer (note some entries contain 'O' for other rather than M or F)\n",
    "* id (str) - customer id\n",
    "* income (float) - customer's income\n",
    "\n",
    "**transcript.json**\n",
    "* event (str) - record description (ie transaction, offer received, offer viewed, etc.)\n",
    "* person (str) - customer id\n",
    "* time (int) - time in hours since start of test. The data begins at time t=0\n",
    "* value - (dict of strings) - either an offer id or transaction amount depending on the record\n",
    "\n",
    "\n",
    "\n",
    "## Metrics \n",
    "The key metric for my analysis will be customer spend in dollars. This metric will be broken out according to other attributes such as test and control periods, gender, age, and income in order to help answer the above questions.\n",
    "\n",
    "I am choosing not to focus on offer completion as a response variable for two reasons:\n",
    "- the meaning of \"offer completion\" varies depending on the offer type, so comparing outcomes across offer types may not be as informative as a more universal metric like customer expenditures.\n",
    "- the impact of promotions on customer expenditures is ultimately of greater business significance than any broadly defined concept of offer completion.\n",
    "- one key offer type, the informational offer, has no completion parameter so this metric would not even apply to those offers."
   ]
  },
  {
   "cell_type": "code",
   "execution_count": 1,
   "metadata": {},
   "outputs": [],
   "source": [
    "import pandas as pd\n",
    "import numpy as np\n",
    "import math\n",
    "import json\n",
    "import matplotlib.pyplot as plt\n",
    "from scipy import stats\n",
    "\n",
    "pd.options.mode.chained_assignment = None  # default='warn'\n",
    "\n",
    "%matplotlib inline\n",
    "\n",
    "# read in the json files\n",
    "portfolio = pd.read_json('data/portfolio.json', orient='records', lines=True)\n",
    "profile = pd.read_json('data/profile.json', orient='records', lines=True)\n",
    "transcript = pd.read_json('data/transcript.json', orient='records', lines=True)"
   ]
  },
  {
   "cell_type": "markdown",
   "metadata": {},
   "source": [
    "# Data Exploration\n",
    "### Explore profile dataset\n",
    "The profile dataset has attribute information for the customers, including gender, age, income, and membership start date. It appears that the dataset contains some missing information."
   ]
  },
  {
   "cell_type": "code",
   "execution_count": 2,
   "metadata": {},
   "outputs": [
    {
     "data": {
      "text/html": [
       "<div>\n",
       "<style scoped>\n",
       "    .dataframe tbody tr th:only-of-type {\n",
       "        vertical-align: middle;\n",
       "    }\n",
       "\n",
       "    .dataframe tbody tr th {\n",
       "        vertical-align: top;\n",
       "    }\n",
       "\n",
       "    .dataframe thead th {\n",
       "        text-align: right;\n",
       "    }\n",
       "</style>\n",
       "<table border=\"1\" class=\"dataframe\">\n",
       "  <thead>\n",
       "    <tr style=\"text-align: right;\">\n",
       "      <th></th>\n",
       "      <th>gender</th>\n",
       "      <th>age</th>\n",
       "      <th>id</th>\n",
       "      <th>became_member_on</th>\n",
       "      <th>income</th>\n",
       "    </tr>\n",
       "  </thead>\n",
       "  <tbody>\n",
       "    <tr>\n",
       "      <th>0</th>\n",
       "      <td>None</td>\n",
       "      <td>118</td>\n",
       "      <td>68be06ca386d4c31939f3a4f0e3dd783</td>\n",
       "      <td>20170212</td>\n",
       "      <td>NaN</td>\n",
       "    </tr>\n",
       "    <tr>\n",
       "      <th>1</th>\n",
       "      <td>F</td>\n",
       "      <td>55</td>\n",
       "      <td>0610b486422d4921ae7d2bf64640c50b</td>\n",
       "      <td>20170715</td>\n",
       "      <td>112000.0</td>\n",
       "    </tr>\n",
       "    <tr>\n",
       "      <th>2</th>\n",
       "      <td>None</td>\n",
       "      <td>118</td>\n",
       "      <td>38fe809add3b4fcf9315a9694bb96ff5</td>\n",
       "      <td>20180712</td>\n",
       "      <td>NaN</td>\n",
       "    </tr>\n",
       "    <tr>\n",
       "      <th>3</th>\n",
       "      <td>F</td>\n",
       "      <td>75</td>\n",
       "      <td>78afa995795e4d85b5d9ceeca43f5fef</td>\n",
       "      <td>20170509</td>\n",
       "      <td>100000.0</td>\n",
       "    </tr>\n",
       "    <tr>\n",
       "      <th>4</th>\n",
       "      <td>None</td>\n",
       "      <td>118</td>\n",
       "      <td>a03223e636434f42ac4c3df47e8bac43</td>\n",
       "      <td>20170804</td>\n",
       "      <td>NaN</td>\n",
       "    </tr>\n",
       "  </tbody>\n",
       "</table>\n",
       "</div>"
      ],
      "text/plain": [
       "  gender  age                                id  became_member_on    income\n",
       "0   None  118  68be06ca386d4c31939f3a4f0e3dd783          20170212       NaN\n",
       "1      F   55  0610b486422d4921ae7d2bf64640c50b          20170715  112000.0\n",
       "2   None  118  38fe809add3b4fcf9315a9694bb96ff5          20180712       NaN\n",
       "3      F   75  78afa995795e4d85b5d9ceeca43f5fef          20170509  100000.0\n",
       "4   None  118  a03223e636434f42ac4c3df47e8bac43          20170804       NaN"
      ]
     },
     "execution_count": 2,
     "metadata": {},
     "output_type": "execute_result"
    }
   ],
   "source": [
    "profile.head()"
   ]
  },
  {
   "cell_type": "code",
   "execution_count": 3,
   "metadata": {},
   "outputs": [
    {
     "name": "stdout",
     "output_type": "stream",
     "text": [
      "Percentage of missing gender values: 0.12794117647058822\n",
      "Percentage of missing income values: 0.12794117647058822\n",
      "Percentage of missing age values: 0.12794117647058822\n"
     ]
    }
   ],
   "source": [
    "print(\"Percentage of missing gender values:\", profile['gender'].isna().sum()/profile.shape[0])\n",
    "print(\"Percentage of missing income values:\", profile['income'].isna().sum()/profile.shape[0])\n",
    "print(\"Percentage of missing age values:\", len(profile['age'][profile['age']==118])/profile.shape[0])"
   ]
  },
  {
   "cell_type": "markdown",
   "metadata": {},
   "source": [
    "Customers' ages span a wide range with the mode hovering around 60. It appears that ages can also be coded as 118, which may indicate that the customer declined to provide this information."
   ]
  },
  {
   "cell_type": "code",
   "execution_count": 4,
   "metadata": {},
   "outputs": [
    {
     "data": {
      "image/png": "[encoded data removed]",
      "text/plain": [
       "<Figure size 432x288 with 1 Axes>"
      ]
     },
     "metadata": {
      "needs_background": "light"
     },
     "output_type": "display_data"
    }
   ],
   "source": [
    "size, scale = 1000, 10\n",
    "age = pd.Series(profile['age'])\n",
    "age.head()\n",
    "age.plot.hist(bins=20, rwidth=0.9, color='#607c8e')\n",
    "plt.title('Count of Customers by Age')\n",
    "plt.xlabel('Age')\n",
    "plt.ylabel('Count of Customers')\n",
    "plt.grid(axis='y', alpha=0.75)"
   ]
  },
  {
   "cell_type": "markdown",
   "metadata": {},
   "source": [
    "The distribution of customer incomes is right skewed with the mode hovering around $60,000."
   ]
  },
  {
   "cell_type": "code",
   "execution_count": 5,
   "metadata": {},
   "outputs": [
    {
     "data": {
      "image/png": "[encoded data removed]",
      "text/plain": [
       "<Figure size 432x288 with 1 Axes>"
      ]
     },
     "metadata": {
      "needs_background": "light"
     },
     "output_type": "display_data"
    }
   ],
   "source": [
    "size, scale = 1000, 10\n",
    "income = pd.Series(profile['income'])\n",
    "income.head()\n",
    "income.plot.hist(bins=20, rwidth=0.9, color='#607c8e')\n",
    "plt.title('Count of Customers by Income')\n",
    "plt.xlabel('Income')\n",
    "plt.ylabel('Count of Customers')\n",
    "plt.grid(axis='y', alpha=0.75)"
   ]
  },
  {
   "cell_type": "markdown",
   "metadata": {},
   "source": [
    "The dataset contains more males than females. A small proportion of customers have their gender coded as \"O\". We will treat these as if they are missing."
   ]
  },
  {
   "cell_type": "code",
   "execution_count": 6,
   "metadata": {},
   "outputs": [
    {
     "data": {
      "image/png": "[encoded data removed]",
      "text/plain": [
       "<Figure size 432x288 with 1 Axes>"
      ]
     },
     "metadata": {
      "needs_background": "light"
     },
     "output_type": "display_data"
    }
   ],
   "source": [
    "size, scale = 1000, 10\n",
    "gender = profile['gender'].value_counts()\n",
    "\n",
    "gender.plot.bar(color='#607c8e')\n",
    "plt.title('Count of Customers by Gender')\n",
    "plt.xlabel('Gender')\n",
    "plt.ylabel('Count of Customers')\n",
    "plt.grid(axis='y', alpha=0.75)"
   ]
  },
  {
   "cell_type": "markdown",
   "metadata": {},
   "source": [
    "### Explore portfolio dataset\n",
    "The portfolio table contains 10 different promotional offers: four bogo offers, four discount offers, and two informational offers. \n",
    "\n",
    "A variety of channels are used to communicate the offers to customers. Email is used for all offers.\n",
    "\n",
    "The rewards vary across offers. Bogo offers have the highest awards on average, followed by discount offers. Informational offers have no monetary value.\n",
    "\n",
    "For my analysis I will focus on the three offer types as opposed to drilling down into each specific offer. The reason for doing so is that I want to focus on understanding the overall impact of promotions at the offer type level without getting mired in the nuances of specific offers, which may be affected by other factors such as seasonality and customer targeting decisions."
   ]
  },
  {
   "cell_type": "code",
   "execution_count": 7,
   "metadata": {},
   "outputs": [
    {
     "data": {
      "text/html": [
       "<div>\n",
       "<style scoped>\n",
       "    .dataframe tbody tr th:only-of-type {\n",
       "        vertical-align: middle;\n",
       "    }\n",
       "\n",
       "    .dataframe tbody tr th {\n",
       "        vertical-align: top;\n",
       "    }\n",
       "\n",
       "    .dataframe thead th {\n",
       "        text-align: right;\n",
       "    }\n",
       "</style>\n",
       "<table border=\"1\" class=\"dataframe\">\n",
       "  <thead>\n",
       "    <tr style=\"text-align: right;\">\n",
       "      <th></th>\n",
       "      <th>reward</th>\n",
       "      <th>channels</th>\n",
       "      <th>difficulty</th>\n",
       "      <th>duration</th>\n",
       "      <th>offer_type</th>\n",
       "      <th>id</th>\n",
       "    </tr>\n",
       "  </thead>\n",
       "  <tbody>\n",
       "    <tr>\n",
       "      <th>0</th>\n",
       "      <td>10</td>\n",
       "      <td>[email, mobile, social]</td>\n",
       "      <td>10</td>\n",
       "      <td>7</td>\n",
       "      <td>bogo</td>\n",
       "      <td>ae264e3637204a6fb9bb56bc8210ddfd</td>\n",
       "    </tr>\n",
       "    <tr>\n",
       "      <th>1</th>\n",
       "      <td>10</td>\n",
       "      <td>[web, email, mobile, social]</td>\n",
       "      <td>10</td>\n",
       "      <td>5</td>\n",
       "      <td>bogo</td>\n",
       "      <td>4d5c57ea9a6940dd891ad53e9dbe8da0</td>\n",
       "    </tr>\n",
       "    <tr>\n",
       "      <th>3</th>\n",
       "      <td>5</td>\n",
       "      <td>[web, email, mobile]</td>\n",
       "      <td>5</td>\n",
       "      <td>7</td>\n",
       "      <td>bogo</td>\n",
       "      <td>9b98b8c7a33c4b65b9aebfe6a799e6d9</td>\n",
       "    </tr>\n",
       "    <tr>\n",
       "      <th>8</th>\n",
       "      <td>5</td>\n",
       "      <td>[web, email, mobile, social]</td>\n",
       "      <td>5</td>\n",
       "      <td>5</td>\n",
       "      <td>bogo</td>\n",
       "      <td>f19421c1d4aa40978ebb69ca19b0e20d</td>\n",
       "    </tr>\n",
       "    <tr>\n",
       "      <th>4</th>\n",
       "      <td>5</td>\n",
       "      <td>[web, email]</td>\n",
       "      <td>20</td>\n",
       "      <td>10</td>\n",
       "      <td>discount</td>\n",
       "      <td>0b1e1539f2cc45b7b9fa7c272da2e1d7</td>\n",
       "    </tr>\n",
       "    <tr>\n",
       "      <th>5</th>\n",
       "      <td>3</td>\n",
       "      <td>[web, email, mobile, social]</td>\n",
       "      <td>7</td>\n",
       "      <td>7</td>\n",
       "      <td>discount</td>\n",
       "      <td>2298d6c36e964ae4a3e7e9706d1fb8c2</td>\n",
       "    </tr>\n",
       "    <tr>\n",
       "      <th>6</th>\n",
       "      <td>2</td>\n",
       "      <td>[web, email, mobile, social]</td>\n",
       "      <td>10</td>\n",
       "      <td>10</td>\n",
       "      <td>discount</td>\n",
       "      <td>fafdcd668e3743c1bb461111dcafc2a4</td>\n",
       "    </tr>\n",
       "    <tr>\n",
       "      <th>9</th>\n",
       "      <td>2</td>\n",
       "      <td>[web, email, mobile]</td>\n",
       "      <td>10</td>\n",
       "      <td>7</td>\n",
       "      <td>discount</td>\n",
       "      <td>2906b810c7d4411798c6938adc9daaa5</td>\n",
       "    </tr>\n",
       "    <tr>\n",
       "      <th>2</th>\n",
       "      <td>0</td>\n",
       "      <td>[web, email, mobile]</td>\n",
       "      <td>0</td>\n",
       "      <td>4</td>\n",
       "      <td>informational</td>\n",
       "      <td>3f207df678b143eea3cee63160fa8bed</td>\n",
       "    </tr>\n",
       "    <tr>\n",
       "      <th>7</th>\n",
       "      <td>0</td>\n",
       "      <td>[email, mobile, social]</td>\n",
       "      <td>0</td>\n",
       "      <td>3</td>\n",
       "      <td>informational</td>\n",
       "      <td>5a8bc65990b245e5a138643cd4eb9837</td>\n",
       "    </tr>\n",
       "  </tbody>\n",
       "</table>\n",
       "</div>"
      ],
      "text/plain": [
       "   reward                      channels  difficulty  duration     offer_type  \\\n",
       "0      10       [email, mobile, social]          10         7           bogo   \n",
       "1      10  [web, email, mobile, social]          10         5           bogo   \n",
       "3       5          [web, email, mobile]           5         7           bogo   \n",
       "8       5  [web, email, mobile, social]           5         5           bogo   \n",
       "4       5                  [web, email]          20        10       discount   \n",
       "5       3  [web, email, mobile, social]           7         7       discount   \n",
       "6       2  [web, email, mobile, social]          10        10       discount   \n",
       "9       2          [web, email, mobile]          10         7       discount   \n",
       "2       0          [web, email, mobile]           0         4  informational   \n",
       "7       0       [email, mobile, social]           0         3  informational   \n",
       "\n",
       "                                 id  \n",
       "0  ae264e3637204a6fb9bb56bc8210ddfd  \n",
       "1  4d5c57ea9a6940dd891ad53e9dbe8da0  \n",
       "3  9b98b8c7a33c4b65b9aebfe6a799e6d9  \n",
       "8  f19421c1d4aa40978ebb69ca19b0e20d  \n",
       "4  0b1e1539f2cc45b7b9fa7c272da2e1d7  \n",
       "5  2298d6c36e964ae4a3e7e9706d1fb8c2  \n",
       "6  fafdcd668e3743c1bb461111dcafc2a4  \n",
       "9  2906b810c7d4411798c6938adc9daaa5  \n",
       "2  3f207df678b143eea3cee63160fa8bed  \n",
       "7  5a8bc65990b245e5a138643cd4eb9837  "
      ]
     },
     "execution_count": 7,
     "metadata": {},
     "output_type": "execute_result"
    }
   ],
   "source": [
    "portfolio.sort_values(by='offer_type')"
   ]
  },
  {
   "cell_type": "markdown",
   "metadata": {},
   "source": [
    "### Explore transcript dataset\n",
    "The transcript dataset contains all customer level events: transactions, offer received, offer viewed, and offer completed.\n"
   ]
  },
  {
   "cell_type": "code",
   "execution_count": 8,
   "metadata": {},
   "outputs": [
    {
     "data": {
      "text/html": [
       "<div>\n",
       "<style scoped>\n",
       "    .dataframe tbody tr th:only-of-type {\n",
       "        vertical-align: middle;\n",
       "    }\n",
       "\n",
       "    .dataframe tbody tr th {\n",
       "        vertical-align: top;\n",
       "    }\n",
       "\n",
       "    .dataframe thead th {\n",
       "        text-align: right;\n",
       "    }\n",
       "</style>\n",
       "<table border=\"1\" class=\"dataframe\">\n",
       "  <thead>\n",
       "    <tr style=\"text-align: right;\">\n",
       "      <th></th>\n",
       "      <th>person</th>\n",
       "      <th>event</th>\n",
       "      <th>value</th>\n",
       "      <th>time</th>\n",
       "    </tr>\n",
       "  </thead>\n",
       "  <tbody>\n",
       "    <tr>\n",
       "      <th>0</th>\n",
       "      <td>78afa995795e4d85b5d9ceeca43f5fef</td>\n",
       "      <td>offer received</td>\n",
       "      <td>{'offer id': '9b98b8c7a33c4b65b9aebfe6a799e6d9'}</td>\n",
       "      <td>0</td>\n",
       "    </tr>\n",
       "    <tr>\n",
       "      <th>1</th>\n",
       "      <td>a03223e636434f42ac4c3df47e8bac43</td>\n",
       "      <td>offer received</td>\n",
       "      <td>{'offer id': '0b1e1539f2cc45b7b9fa7c272da2e1d7'}</td>\n",
       "      <td>0</td>\n",
       "    </tr>\n",
       "    <tr>\n",
       "      <th>2</th>\n",
       "      <td>e2127556f4f64592b11af22de27a7932</td>\n",
       "      <td>offer received</td>\n",
       "      <td>{'offer id': '2906b810c7d4411798c6938adc9daaa5'}</td>\n",
       "      <td>0</td>\n",
       "    </tr>\n",
       "    <tr>\n",
       "      <th>3</th>\n",
       "      <td>8ec6ce2a7e7949b1bf142def7d0e0586</td>\n",
       "      <td>offer received</td>\n",
       "      <td>{'offer id': 'fafdcd668e3743c1bb461111dcafc2a4'}</td>\n",
       "      <td>0</td>\n",
       "    </tr>\n",
       "    <tr>\n",
       "      <th>4</th>\n",
       "      <td>68617ca6246f4fbc85e91a2a49552598</td>\n",
       "      <td>offer received</td>\n",
       "      <td>{'offer id': '4d5c57ea9a6940dd891ad53e9dbe8da0'}</td>\n",
       "      <td>0</td>\n",
       "    </tr>\n",
       "  </tbody>\n",
       "</table>\n",
       "</div>"
      ],
      "text/plain": [
       "                             person           event  \\\n",
       "0  78afa995795e4d85b5d9ceeca43f5fef  offer received   \n",
       "1  a03223e636434f42ac4c3df47e8bac43  offer received   \n",
       "2  e2127556f4f64592b11af22de27a7932  offer received   \n",
       "3  8ec6ce2a7e7949b1bf142def7d0e0586  offer received   \n",
       "4  68617ca6246f4fbc85e91a2a49552598  offer received   \n",
       "\n",
       "                                              value  time  \n",
       "0  {'offer id': '9b98b8c7a33c4b65b9aebfe6a799e6d9'}     0  \n",
       "1  {'offer id': '0b1e1539f2cc45b7b9fa7c272da2e1d7'}     0  \n",
       "2  {'offer id': '2906b810c7d4411798c6938adc9daaa5'}     0  \n",
       "3  {'offer id': 'fafdcd668e3743c1bb461111dcafc2a4'}     0  \n",
       "4  {'offer id': '4d5c57ea9a6940dd891ad53e9dbe8da0'}     0  "
      ]
     },
     "execution_count": 8,
     "metadata": {},
     "output_type": "execute_result"
    }
   ],
   "source": [
    "transcript.head()"
   ]
  },
  {
   "cell_type": "code",
   "execution_count": 9,
   "metadata": {},
   "outputs": [
    {
     "name": "stdout",
     "output_type": "stream",
     "text": [
      "['offer received' 'offer viewed' 'transaction' 'offer completed']\n"
     ]
    }
   ],
   "source": [
    "print(transcript['event'].unique())"
   ]
  },
  {
   "cell_type": "markdown",
   "metadata": {},
   "source": [
    "The most frequently occurring event type is transactions, which is to be expected. A surprisingly high number of offers are viewed and completed: the data seems to suggest that nearly half of received offers are completed."
   ]
  },
  {
   "cell_type": "code",
   "execution_count": 10,
   "metadata": {},
   "outputs": [
    {
     "data": {
      "image/png": "[encoded data removed]",
      "text/plain": [
       "<Figure size 432x288 with 1 Axes>"
      ]
     },
     "metadata": {
      "needs_background": "light"
     },
     "output_type": "display_data"
    }
   ],
   "source": [
    "event_counts = transcript['event'].value_counts()\n",
    "\n",
    "event_counts.plot.bar(color='#607c8e')\n",
    "plt.title('Count of Customers by Event Type')\n",
    "plt.xlabel('Event Type')\n",
    "plt.ylabel('Count of Events')\n",
    "plt.grid(axis='y', alpha=0.75)"
   ]
  },
  {
   "cell_type": "markdown",
   "metadata": {},
   "source": [
    "# Methodology"
   ]
  },
  {
   "cell_type": "markdown",
   "metadata": {},
   "source": [
    "The question I want to answer in this analysis is: what is the impact of Starbucks' promotions on customer expenditures? Presumably the offers increase customer spend, but we want to test that hypothesis and understand the magnitude of the impact if it does exist. We also want to understand how this impact varies across different demographic attributes.\n",
    "\n",
    "One approach to answering this question is to compare customers who receive one type of offer (test group) to customers who did not receive that same type of offer (control group). However this approach has some potential problems:\n",
    "- Customers in the control group may be influenced by other offers, and excluding control customers on that basis would reduce the sample size and could bias the results.\n",
    "- We don't have visibility into why certain customers receive offers in the first place, while others don't. If assignment is non-random, the control group may not provide a valid basis of comparison. Even though we have some customer attributes to better understand how the test group and control group differ, there is always the risk of unobserved differences biasing the results.\n",
    "\n",
    "For this reason, I will use a within-subjects method to measure the impact of the promotional offers. A within-subjects approach will take customers' expenditures during promotional periods and compare them to a baseline which I define as the period just prior to the promotional period with a duration equal to the duration of the promotion. \n",
    "\n",
    "For example: if a customer receives a promotion on Day 10 that lasts for five days (until Day 14), that customer's baseline period is Day 5 to Day 9.\n",
    "\n",
    "By using customers' own pre-offer purchase history as a baseline, we are able to keep customer attributes constant and minimize bias. While the comparison may not be particularly meaningful for a single customer, comparing customer activity during the baseline period to customer activity during the offer period across a larger population of thousands of customers can generate useful insights. I will also perform statistical tests to determine if any observed differences are statistically significant.\n",
    "\n"
   ]
  },
  {
   "cell_type": "markdown",
   "metadata": {},
   "source": [
    "# Clean Data"
   ]
  },
  {
   "cell_type": "code",
   "execution_count": 11,
   "metadata": {},
   "outputs": [
    {
     "data": {
      "text/html": [
       "<div>\n",
       "<style scoped>\n",
       "    .dataframe tbody tr th:only-of-type {\n",
       "        vertical-align: middle;\n",
       "    }\n",
       "\n",
       "    .dataframe tbody tr th {\n",
       "        vertical-align: top;\n",
       "    }\n",
       "\n",
       "    .dataframe thead th {\n",
       "        text-align: right;\n",
       "    }\n",
       "</style>\n",
       "<table border=\"1\" class=\"dataframe\">\n",
       "  <thead>\n",
       "    <tr style=\"text-align: right;\">\n",
       "      <th></th>\n",
       "      <th>person</th>\n",
       "      <th>offer_id</th>\n",
       "      <th>event</th>\n",
       "      <th>offer_start</th>\n",
       "      <th>offer_type</th>\n",
       "      <th>duration</th>\n",
       "      <th>offer_end</th>\n",
       "      <th>baseline_start</th>\n",
       "    </tr>\n",
       "  </thead>\n",
       "  <tbody>\n",
       "    <tr>\n",
       "      <th>2521</th>\n",
       "      <td>38fe809add3b4fcf9315a9694bb96ff5</td>\n",
       "      <td>9b98b8c7a33c4b65b9aebfe6a799e6d9</td>\n",
       "      <td>offer received</td>\n",
       "      <td>168</td>\n",
       "      <td>bogo</td>\n",
       "      <td>7</td>\n",
       "      <td>174</td>\n",
       "      <td>161</td>\n",
       "    </tr>\n",
       "    <tr>\n",
       "      <th>2522</th>\n",
       "      <td>389bc3fa690240e798340f5a15918d5c</td>\n",
       "      <td>9b98b8c7a33c4b65b9aebfe6a799e6d9</td>\n",
       "      <td>offer received</td>\n",
       "      <td>168</td>\n",
       "      <td>bogo</td>\n",
       "      <td>7</td>\n",
       "      <td>174</td>\n",
       "      <td>161</td>\n",
       "    </tr>\n",
       "    <tr>\n",
       "      <th>2523</th>\n",
       "      <td>13bda8fbd70a4814b956df1d55320398</td>\n",
       "      <td>9b98b8c7a33c4b65b9aebfe6a799e6d9</td>\n",
       "      <td>offer received</td>\n",
       "      <td>168</td>\n",
       "      <td>bogo</td>\n",
       "      <td>7</td>\n",
       "      <td>174</td>\n",
       "      <td>161</td>\n",
       "    </tr>\n",
       "    <tr>\n",
       "      <th>2524</th>\n",
       "      <td>65aba5c617294649aeb624da249e1ee5</td>\n",
       "      <td>9b98b8c7a33c4b65b9aebfe6a799e6d9</td>\n",
       "      <td>offer received</td>\n",
       "      <td>168</td>\n",
       "      <td>bogo</td>\n",
       "      <td>7</td>\n",
       "      <td>174</td>\n",
       "      <td>161</td>\n",
       "    </tr>\n",
       "    <tr>\n",
       "      <th>2525</th>\n",
       "      <td>3f89b8f80ebc4f94b7074f28071aa8d4</td>\n",
       "      <td>9b98b8c7a33c4b65b9aebfe6a799e6d9</td>\n",
       "      <td>offer received</td>\n",
       "      <td>168</td>\n",
       "      <td>bogo</td>\n",
       "      <td>7</td>\n",
       "      <td>174</td>\n",
       "      <td>161</td>\n",
       "    </tr>\n",
       "  </tbody>\n",
       "</table>\n",
       "</div>"
      ],
      "text/plain": [
       "                                person                          offer_id  \\\n",
       "2521  38fe809add3b4fcf9315a9694bb96ff5  9b98b8c7a33c4b65b9aebfe6a799e6d9   \n",
       "2522  389bc3fa690240e798340f5a15918d5c  9b98b8c7a33c4b65b9aebfe6a799e6d9   \n",
       "2523  13bda8fbd70a4814b956df1d55320398  9b98b8c7a33c4b65b9aebfe6a799e6d9   \n",
       "2524  65aba5c617294649aeb624da249e1ee5  9b98b8c7a33c4b65b9aebfe6a799e6d9   \n",
       "2525  3f89b8f80ebc4f94b7074f28071aa8d4  9b98b8c7a33c4b65b9aebfe6a799e6d9   \n",
       "\n",
       "               event  offer_start offer_type  duration  offer_end  \\\n",
       "2521  offer received          168       bogo         7        174   \n",
       "2522  offer received          168       bogo         7        174   \n",
       "2523  offer received          168       bogo         7        174   \n",
       "2524  offer received          168       bogo         7        174   \n",
       "2525  offer received          168       bogo         7        174   \n",
       "\n",
       "      baseline_start  \n",
       "2521             161  \n",
       "2522             161  \n",
       "2523             161  \n",
       "2524             161  \n",
       "2525             161  "
      ]
     },
     "execution_count": 11,
     "metadata": {},
     "output_type": "execute_result"
    }
   ],
   "source": [
    "def clean_offers(transcript, portfolio):\n",
    "    \n",
    "    '''\n",
    "    Create a dataframe with offer details by person. Include the date range for each offer's baseline period, which\n",
    "    is defined as the period prior to the offer start date with length equal to the offer duration.\n",
    "    \n",
    "    INPUT:\n",
    "    transcript - raw transcript dataframe\n",
    "    portfolio - raw portfolio dataframe\n",
    "    \n",
    "    OUTPUT:\n",
    "    Cleaned dataframe with offer details by person\n",
    "    '''\n",
    "    \n",
    "    # Create separate offers table and parse the value field to extract the offer type\n",
    "    offers = transcript[transcript['event'] != 'transaction']\n",
    "    offers['offer_id'] = offers['value'].apply(lambda x: x['offer id'] if ('offer id' in x) else x['offer_id'])\n",
    "    offers = offers.drop(['value'], axis=1)\n",
    "    offers = offers[['person', 'offer_id', 'event', 'time']]\n",
    "    offers = offers.rename(columns={'time': 'offer_start'})\n",
    "\n",
    "    # Merge in offer type and duration\n",
    "    offers = offers.merge(portfolio[['id', 'offer_type', 'duration']], left_on='offer_id', right_on='id')\n",
    "    offers = offers.drop(['id'], axis=1)\n",
    "\n",
    "    # Generate offer end date and remove duration column\n",
    "    offers['offer_end'] = offers['offer_start'] + offers['duration'] - 1\n",
    "\n",
    "    # Create baseline start time\n",
    "    offers['baseline_start'] = offers['offer_start'] - offers['duration']\n",
    "\n",
    "    # Retain rows where a BOGO or discount offer was received and instances where an informational offer was viewed\n",
    "    offers = offers[((offers['offer_type'] == 'bogo') & (offers['event'] == 'offer received')) | \n",
    "                    ((offers['offer_type'] == 'discount') & (offers['event'] == 'offer received')) |\n",
    "                    ((offers['offer_type'] == 'informational') & (offers['event'] == 'offer viewed'))]\n",
    "\n",
    "    # Drop rows where there is insufficient baseline data (e.g. offer is triggered on Day 0)\n",
    "    return offers[offers['baseline_start'] >= 0]\n",
    "\n",
    "offers = clean_offers(transcript, portfolio)\n",
    "offers.head()"
   ]
  },
  {
   "cell_type": "code",
   "execution_count": 12,
   "metadata": {},
   "outputs": [
    {
     "data": {
      "text/html": [
       "<div>\n",
       "<style scoped>\n",
       "    .dataframe tbody tr th:only-of-type {\n",
       "        vertical-align: middle;\n",
       "    }\n",
       "\n",
       "    .dataframe tbody tr th {\n",
       "        vertical-align: top;\n",
       "    }\n",
       "\n",
       "    .dataframe thead th {\n",
       "        text-align: right;\n",
       "    }\n",
       "</style>\n",
       "<table border=\"1\" class=\"dataframe\">\n",
       "  <thead>\n",
       "    <tr style=\"text-align: right;\">\n",
       "      <th></th>\n",
       "      <th>person</th>\n",
       "      <th>offer_type</th>\n",
       "      <th>offer_id</th>\n",
       "      <th>baseline_start</th>\n",
       "      <th>offer_start</th>\n",
       "      <th>offer_end</th>\n",
       "      <th>test_flag</th>\n",
       "      <th>time</th>\n",
       "      <th>spend</th>\n",
       "    </tr>\n",
       "  </thead>\n",
       "  <tbody>\n",
       "    <tr>\n",
       "      <th>2302</th>\n",
       "      <td>37a97f6e09784a07bbb67bc6539f1a00</td>\n",
       "      <td>informational</td>\n",
       "      <td>3f207df678b143eea3cee63160fa8bed</td>\n",
       "      <td>2.0</td>\n",
       "      <td>6.0</td>\n",
       "      <td>9.0</td>\n",
       "      <td>1.0</td>\n",
       "      <td>6</td>\n",
       "      <td>24.25</td>\n",
       "    </tr>\n",
       "    <tr>\n",
       "      <th>2535</th>\n",
       "      <td>212a2120b14d4ed88a10d2524c715b28</td>\n",
       "      <td>informational</td>\n",
       "      <td>5a8bc65990b245e5a138643cd4eb9837</td>\n",
       "      <td>3.0</td>\n",
       "      <td>6.0</td>\n",
       "      <td>8.0</td>\n",
       "      <td>1.0</td>\n",
       "      <td>6</td>\n",
       "      <td>0.82</td>\n",
       "    </tr>\n",
       "    <tr>\n",
       "      <th>2603</th>\n",
       "      <td>9b265daef0cd4839aabee7f4ee851050</td>\n",
       "      <td>informational</td>\n",
       "      <td>3f207df678b143eea3cee63160fa8bed</td>\n",
       "      <td>2.0</td>\n",
       "      <td>6.0</td>\n",
       "      <td>9.0</td>\n",
       "      <td>1.0</td>\n",
       "      <td>6</td>\n",
       "      <td>35.02</td>\n",
       "    </tr>\n",
       "    <tr>\n",
       "      <th>2862</th>\n",
       "      <td>055fe39c422643d89a93cf05cf610b2e</td>\n",
       "      <td>informational</td>\n",
       "      <td>5a8bc65990b245e5a138643cd4eb9837</td>\n",
       "      <td>3.0</td>\n",
       "      <td>6.0</td>\n",
       "      <td>8.0</td>\n",
       "      <td>1.0</td>\n",
       "      <td>6</td>\n",
       "      <td>5.15</td>\n",
       "    </tr>\n",
       "    <tr>\n",
       "      <th>2870</th>\n",
       "      <td>9f3a4c78181f4a138f0130ea027a2f3d</td>\n",
       "      <td>informational</td>\n",
       "      <td>3f207df678b143eea3cee63160fa8bed</td>\n",
       "      <td>2.0</td>\n",
       "      <td>6.0</td>\n",
       "      <td>9.0</td>\n",
       "      <td>1.0</td>\n",
       "      <td>6</td>\n",
       "      <td>6.74</td>\n",
       "    </tr>\n",
       "  </tbody>\n",
       "</table>\n",
       "</div>"
      ],
      "text/plain": [
       "                                person     offer_type  \\\n",
       "2302  37a97f6e09784a07bbb67bc6539f1a00  informational   \n",
       "2535  212a2120b14d4ed88a10d2524c715b28  informational   \n",
       "2603  9b265daef0cd4839aabee7f4ee851050  informational   \n",
       "2862  055fe39c422643d89a93cf05cf610b2e  informational   \n",
       "2870  9f3a4c78181f4a138f0130ea027a2f3d  informational   \n",
       "\n",
       "                              offer_id  baseline_start  offer_start  \\\n",
       "2302  3f207df678b143eea3cee63160fa8bed             2.0          6.0   \n",
       "2535  5a8bc65990b245e5a138643cd4eb9837             3.0          6.0   \n",
       "2603  3f207df678b143eea3cee63160fa8bed             2.0          6.0   \n",
       "2862  5a8bc65990b245e5a138643cd4eb9837             3.0          6.0   \n",
       "2870  3f207df678b143eea3cee63160fa8bed             2.0          6.0   \n",
       "\n",
       "      offer_end  test_flag  time  spend  \n",
       "2302        9.0        1.0     6  24.25  \n",
       "2535        8.0        1.0     6   0.82  \n",
       "2603        9.0        1.0     6  35.02  \n",
       "2862        8.0        1.0     6   5.15  \n",
       "2870        9.0        1.0     6   6.74  "
      ]
     },
     "execution_count": 12,
     "metadata": {},
     "output_type": "execute_result"
    }
   ],
   "source": [
    "def clean_transactions(transcript, profile, offers):\n",
    "\n",
    "    '''\n",
    "    Create a cleaned dataframe with transactions, offer details, and demographic attributes by person.\n",
    "    \n",
    "    INPUT:\n",
    "    transcript - raw transcript dataframe\n",
    "    profile - raw profile dataframe\n",
    "    offers - cleaned offers dataframe, outputted from clean_offers function\n",
    "    \n",
    "    OUTPUT:\n",
    "    Cleaned dataframe with offer details, transaction details, and test/baseline flags by person\n",
    "    '''\n",
    "\n",
    "    # Generate clean transactions dataset\n",
    "    transactions = transcript[transcript['event'] == 'transaction']\n",
    "\n",
    "    transactions['spend'] = transactions['value'].apply(lambda x: x['amount'])\n",
    "    transactions = transactions.drop(['value', 'event'], axis=1)\n",
    "\n",
    "    \n",
    "    # Join offers details onto transactions table with person ID\n",
    "    transaction_details = pd.merge(transactions, offers, how = 'left', left_on = ['person'], right_on = ['person'])\n",
    "    \n",
    "    # Create test flag\n",
    "    transaction_details['test_flag'] = np.nan\n",
    "\n",
    "    # Assign transactions occurring during baseline period a 0, transactions occuring during offer period a 1\n",
    "    transaction_details['test_flag'][(transaction_details['time'] >= transaction_details['baseline_start']) &\n",
    "                        (transaction_details['time'] < transaction_details['offer_start'])] = 0\n",
    "\n",
    "    transaction_details['test_flag'][(transaction_details['time'] >= transaction_details['offer_start']) &\n",
    "                        (transaction_details['time'] <= transaction_details['offer_end'])] = 1\n",
    "\n",
    "    # Drop rows where transactions do not fall within the baseline + offer window\n",
    "    transaction_details = transaction_details[transaction_details['test_flag'].isna() == False]\n",
    "    \n",
    "    # Reorder columns\n",
    "    return transaction_details[['person', 'offer_type', 'offer_id', 'baseline_start', 'offer_start', 'offer_end', 'test_flag', 'time', 'spend']]\n",
    "\n",
    "transaction_details = clean_transactions(transcript, profile, offers)\n",
    "transaction_details.head()"
   ]
  },
  {
   "cell_type": "code",
   "execution_count": 13,
   "metadata": {},
   "outputs": [],
   "source": [
    "def create_analysis_dataset(transaction_details, profile):\n",
    "    \n",
    "    '''\n",
    "    Create a dataset that is ready to be analyzed. This function should take transaction_details and profile tables \n",
    "    as inputs and output a table with customer expenditures by person, offer type, and baseline/test period. Customers'\n",
    "    demographic attributes are also joined onto the table in order to facilitate a subgroup-level analysis.\n",
    "    \n",
    "    INPUT:\n",
    "    transaction_details - Outputted from 'clean_transactions' function\n",
    "    profile - Raw customer profile table\n",
    "    \n",
    "    OUTPUT:\n",
    "    Clean dataframe that can be used for analysis\n",
    "\n",
    "    '''\n",
    "    \n",
    "    offer_list = transaction_details['offer_type'].unique()\n",
    "    analysis_dataset = pd.DataFrame()\n",
    "    \n",
    "    for i in range(len(offer_list)):\n",
    "\n",
    "        # From the transaction_details dataframe, create a subset of all people associated with an offer type \n",
    "        transaction_subset = transaction_details[transaction_details['offer_type'] == \n",
    "                                                 offer_list[i]][['person']].drop_duplicates()\n",
    "        \n",
    "        # Join the test period transactions onto a table with person_ids of all customers who received the same offer, \n",
    "        # regardless of whether they made a transaction or not.\n",
    "        transaction_subset_test = pd.merge(transaction_subset, \n",
    "                                           transaction_details[(transaction_details['offer_type'] == offer_list[i]) & \n",
    "                                                               (transaction_details['test_flag'] == 1)],\n",
    "                                           how = 'left',\n",
    "                                           left_on = ['person'],\n",
    "                                           right_on = ['person'])\n",
    "\n",
    "        # Fill in missing values in instances where the customer received an offer but did not make a transaction\n",
    "        transaction_subset_test['test_flag'][transaction_subset_test['test_flag'].isna()==True] = 1\n",
    "        transaction_subset_test['spend'][transaction_subset_test['spend'].isna()==True] = 0\n",
    "        transaction_subset_test['offer_type'][transaction_subset_test['offer_type'].isna()==True] = offer_list[i]\n",
    "\n",
    "        # Join the control period transactions on a table with person_ids of all customers who received the same \n",
    "        # offer, regardless of whether they made a transaction or not.\n",
    "        transaction_subset_control = pd.merge(transaction_subset, \n",
    "                                              transaction_details[(transaction_details['offer_type'] == offer_list[i]) & \n",
    "                                                                  (transaction_details['test_flag'] == 0)],\n",
    "                                              how = 'left',\n",
    "                                              left_on = ['person'],\n",
    "                                              right_on = ['person'])\n",
    "\n",
    "        # Fill in missing values in instances where the customer received an offer but did not make a transaction\n",
    "        transaction_subset_control['test_flag'][transaction_subset_control['test_flag'].isna()==True] = 0\n",
    "        transaction_subset_control['spend'][transaction_subset_control['spend'].isna()==True] = 0\n",
    "        transaction_subset_control['offer_type'][transaction_subset_control['offer_type'].isna()==True] = offer_list[i]\n",
    "        \n",
    "        # Concatenate the test and control transactions data and append to main table\n",
    "        transaction_subset = pd.concat([transaction_subset_test, transaction_subset_control])\n",
    "        analysis_dataset = analysis_dataset.append(transaction_subset)\n",
    "        \n",
    "    # Join demographic details from profile data to dataframe\n",
    "    analysis_dataset = pd.merge(analysis_dataset, profile[['id', 'age', 'gender', 'income']], how = 'left', left_on = ['person'], right_on = ['id'])\n",
    "\n",
    "    # Impute income as average when value is missing; using average is preferred over dropping the observations entirely\n",
    "    analysis_dataset['income'][analysis_dataset['income'].isna()==True] = analysis_dataset['income'].mean()\n",
    "    \n",
    "    # Impute age as average when value is missing; using average is preferred over dropping the observations entirely\n",
    "    analysis_dataset['age'][analysis_dataset['age']==118] = analysis_dataset['age'].mean()\n",
    "    analysis_dataset['age'][analysis_dataset['age'].isna()==True] = analysis_dataset['age'].mean()\n",
    "    \n",
    "    # Recode missing gender values as 'Unknown'\n",
    "    analysis_dataset['gender'][(analysis_dataset['gender'].isna()==True) | (analysis_dataset['gender']=='O')] = 'Unknown'   \n",
    "\n",
    "    # Sum purchase amounts by person and test_flag\n",
    "    analysis_dataset = analysis_dataset.groupby(['person', 'offer_type', 'age', 'gender', 'income', 'test_flag'], as_index=False).sum()\n",
    "        \n",
    "    return analysis_dataset"
   ]
  },
  {
   "cell_type": "code",
   "execution_count": 14,
   "metadata": {},
   "outputs": [
    {
     "data": {
      "text/html": [
       "<div>\n",
       "<style scoped>\n",
       "    .dataframe tbody tr th:only-of-type {\n",
       "        vertical-align: middle;\n",
       "    }\n",
       "\n",
       "    .dataframe tbody tr th {\n",
       "        vertical-align: top;\n",
       "    }\n",
       "\n",
       "    .dataframe thead th {\n",
       "        text-align: right;\n",
       "    }\n",
       "</style>\n",
       "<table border=\"1\" class=\"dataframe\">\n",
       "  <thead>\n",
       "    <tr style=\"text-align: right;\">\n",
       "      <th></th>\n",
       "      <th>person</th>\n",
       "      <th>offer_type</th>\n",
       "      <th>age</th>\n",
       "      <th>gender</th>\n",
       "      <th>income</th>\n",
       "      <th>test_flag</th>\n",
       "      <th>baseline_start</th>\n",
       "      <th>offer_start</th>\n",
       "      <th>offer_end</th>\n",
       "      <th>time</th>\n",
       "      <th>spend</th>\n",
       "    </tr>\n",
       "  </thead>\n",
       "  <tbody>\n",
       "    <tr>\n",
       "      <th>0</th>\n",
       "      <td>0009655768c64bdeb2e877511632db8f</td>\n",
       "      <td>discount</td>\n",
       "      <td>33.0</td>\n",
       "      <td>M</td>\n",
       "      <td>72000.0</td>\n",
       "      <td>0.0</td>\n",
       "      <td>0.0</td>\n",
       "      <td>0.0</td>\n",
       "      <td>0.0</td>\n",
       "      <td>0.0</td>\n",
       "      <td>0.00</td>\n",
       "    </tr>\n",
       "    <tr>\n",
       "      <th>1</th>\n",
       "      <td>0009655768c64bdeb2e877511632db8f</td>\n",
       "      <td>discount</td>\n",
       "      <td>33.0</td>\n",
       "      <td>M</td>\n",
       "      <td>72000.0</td>\n",
       "      <td>1.0</td>\n",
       "      <td>569.0</td>\n",
       "      <td>576.0</td>\n",
       "      <td>582.0</td>\n",
       "      <td>576.0</td>\n",
       "      <td>10.27</td>\n",
       "    </tr>\n",
       "    <tr>\n",
       "      <th>2</th>\n",
       "      <td>003d66b6608740288d6cc97a6903f4f0</td>\n",
       "      <td>discount</td>\n",
       "      <td>26.0</td>\n",
       "      <td>F</td>\n",
       "      <td>73000.0</td>\n",
       "      <td>0.0</td>\n",
       "      <td>398.0</td>\n",
       "      <td>408.0</td>\n",
       "      <td>417.0</td>\n",
       "      <td>402.0</td>\n",
       "      <td>5.94</td>\n",
       "    </tr>\n",
       "    <tr>\n",
       "      <th>3</th>\n",
       "      <td>003d66b6608740288d6cc97a6903f4f0</td>\n",
       "      <td>discount</td>\n",
       "      <td>26.0</td>\n",
       "      <td>F</td>\n",
       "      <td>73000.0</td>\n",
       "      <td>1.0</td>\n",
       "      <td>494.0</td>\n",
       "      <td>504.0</td>\n",
       "      <td>513.0</td>\n",
       "      <td>504.0</td>\n",
       "      <td>5.01</td>\n",
       "    </tr>\n",
       "    <tr>\n",
       "      <th>4</th>\n",
       "      <td>00426fe3ffde4c6b9cb9ad6d077a13ea</td>\n",
       "      <td>discount</td>\n",
       "      <td>19.0</td>\n",
       "      <td>F</td>\n",
       "      <td>65000.0</td>\n",
       "      <td>0.0</td>\n",
       "      <td>0.0</td>\n",
       "      <td>0.0</td>\n",
       "      <td>0.0</td>\n",
       "      <td>0.0</td>\n",
       "      <td>0.00</td>\n",
       "    </tr>\n",
       "  </tbody>\n",
       "</table>\n",
       "</div>"
      ],
      "text/plain": [
       "                             person offer_type   age gender   income  \\\n",
       "0  0009655768c64bdeb2e877511632db8f   discount  33.0      M  72000.0   \n",
       "1  0009655768c64bdeb2e877511632db8f   discount  33.0      M  72000.0   \n",
       "2  003d66b6608740288d6cc97a6903f4f0   discount  26.0      F  73000.0   \n",
       "3  003d66b6608740288d6cc97a6903f4f0   discount  26.0      F  73000.0   \n",
       "4  00426fe3ffde4c6b9cb9ad6d077a13ea   discount  19.0      F  65000.0   \n",
       "\n",
       "   test_flag  baseline_start  offer_start  offer_end   time  spend  \n",
       "0        0.0             0.0          0.0        0.0    0.0   0.00  \n",
       "1        1.0           569.0        576.0      582.0  576.0  10.27  \n",
       "2        0.0           398.0        408.0      417.0  402.0   5.94  \n",
       "3        1.0           494.0        504.0      513.0  504.0   5.01  \n",
       "4        0.0             0.0          0.0        0.0    0.0   0.00  "
      ]
     },
     "execution_count": 14,
     "metadata": {},
     "output_type": "execute_result"
    }
   ],
   "source": [
    "analysis_dataset = create_analysis_dataset(transaction_details, profile)\n",
    "analysis_dataset.head()"
   ]
  },
  {
   "cell_type": "markdown",
   "metadata": {},
   "source": [
    "# Perform Analysis"
   ]
  },
  {
   "cell_type": "markdown",
   "metadata": {},
   "source": [
    "## Comparing offer behavior to baseline"
   ]
  },
  {
   "cell_type": "markdown",
   "metadata": {},
   "source": [
    "By comparing the sales during the offer period to the sales during the baseline period, we are able to measure the impact of the promotions on sales. I show the comparison across all three offer types. "
   ]
  },
  {
   "cell_type": "code",
   "execution_count": 15,
   "metadata": {},
   "outputs": [],
   "source": [
    "# Create function that calculates the sales means to measure impacts\n",
    "\n",
    "def test_control_analysis(analysis_dataset):\n",
    "    \n",
    "    '''\n",
    "    Calculate means across segments and prepare them for visualization\n",
    "    \n",
    "    INPUT:\n",
    "    analysis_dataset - Outputted from create_analysis_dataset function\n",
    "    \n",
    "    OUTPUT:\n",
    "    Resulting comparison of means across segments\n",
    "\n",
    "    '''\n",
    "    \n",
    "    offer_list = analysis_dataset['offer_type'].unique()\n",
    "    results = pd.DataFrame(columns=['offer_type','group','spend'])\n",
    "    \n",
    "    for i in range(len(offer_list)):\n",
    "        interim_control = pd.DataFrame([[offer_list[i],\n",
    "                                         'control',\n",
    "                                         analysis_dataset['spend'][(analysis_dataset['offer_type']==offer_list[i]) &\n",
    "                                                                   (analysis_dataset['test_flag']==0)].mean()]],\n",
    "                                       columns=['offer_type','group','spend']\n",
    "                                      )\n",
    "                                \n",
    "        interim_test = pd.DataFrame([[offer_list[i],\n",
    "                                         'test',\n",
    "                                         analysis_dataset['spend'][(analysis_dataset['offer_type']==offer_list[i]) &\n",
    "                                                                   (analysis_dataset['test_flag']==1)].mean()]],\n",
    "                                       columns=['offer_type','group','spend']\n",
    "                                      )\n",
    "        results = results.append([interim_control, interim_test])\n",
    "        \n",
    "    return results"
   ]
  },
  {
   "cell_type": "code",
   "execution_count": 16,
   "metadata": {},
   "outputs": [
    {
     "data": {
      "text/html": [
       "<div>\n",
       "<style scoped>\n",
       "    .dataframe tbody tr th:only-of-type {\n",
       "        vertical-align: middle;\n",
       "    }\n",
       "\n",
       "    .dataframe tbody tr th {\n",
       "        vertical-align: top;\n",
       "    }\n",
       "\n",
       "    .dataframe thead th {\n",
       "        text-align: right;\n",
       "    }\n",
       "</style>\n",
       "<table border=\"1\" class=\"dataframe\">\n",
       "  <thead>\n",
       "    <tr style=\"text-align: right;\">\n",
       "      <th></th>\n",
       "      <th>offer_type</th>\n",
       "      <th>group</th>\n",
       "      <th>spend</th>\n",
       "    </tr>\n",
       "  </thead>\n",
       "  <tbody>\n",
       "    <tr>\n",
       "      <th>0</th>\n",
       "      <td>discount</td>\n",
       "      <td>control</td>\n",
       "      <td>4.385802</td>\n",
       "    </tr>\n",
       "    <tr>\n",
       "      <th>0</th>\n",
       "      <td>discount</td>\n",
       "      <td>test</td>\n",
       "      <td>11.301009</td>\n",
       "    </tr>\n",
       "    <tr>\n",
       "      <th>0</th>\n",
       "      <td>informational</td>\n",
       "      <td>control</td>\n",
       "      <td>0.000000</td>\n",
       "    </tr>\n",
       "    <tr>\n",
       "      <th>0</th>\n",
       "      <td>informational</td>\n",
       "      <td>test</td>\n",
       "      <td>12.885038</td>\n",
       "    </tr>\n",
       "    <tr>\n",
       "      <th>0</th>\n",
       "      <td>bogo</td>\n",
       "      <td>control</td>\n",
       "      <td>3.636433</td>\n",
       "    </tr>\n",
       "    <tr>\n",
       "      <th>0</th>\n",
       "      <td>bogo</td>\n",
       "      <td>test</td>\n",
       "      <td>11.735535</td>\n",
       "    </tr>\n",
       "  </tbody>\n",
       "</table>\n",
       "</div>"
      ],
      "text/plain": [
       "      offer_type    group      spend\n",
       "0       discount  control   4.385802\n",
       "0       discount     test  11.301009\n",
       "0  informational  control   0.000000\n",
       "0  informational     test  12.885038\n",
       "0           bogo  control   3.636433\n",
       "0           bogo     test  11.735535"
      ]
     },
     "execution_count": 16,
     "metadata": {},
     "output_type": "execute_result"
    }
   ],
   "source": [
    "analysis_results = test_control_analysis(analysis_dataset)\n",
    "analysis_results\n"
   ]
  },
  {
   "cell_type": "code",
   "execution_count": 17,
   "metadata": {},
   "outputs": [
    {
     "data": {
      "image/png": "[encoded data removed]",
      "text/plain": [
       "<Figure size 432x288 with 1 Axes>"
      ]
     },
     "metadata": {
      "needs_background": "light"
     },
     "output_type": "display_data"
    }
   ],
   "source": [
    "analysis_results.pivot(\"offer_type\", \"group\", \"spend\").plot(kind='bar')\n",
    "\n",
    "plt.title('Average Sales per Customer by Offer Type')\n",
    "plt.xlabel('Offer Type')\n",
    "plt.ylabel('Sales per Customer ($)')\n",
    "plt.grid(axis='y', alpha=0.75)"
   ]
  },
  {
   "cell_type": "markdown",
   "metadata": {},
   "source": [
    "The above results clearly suggest that the promotional offers have a positive impact on sales, with per customer sales increasing significantly from the baseline period to the offer period for both BOGO offers ($3.64 vs $11.74) and discount offers ($4.39 vs $11.30).\n",
    "\n",
    "It is notable that customers who received the informational offer had no sales during the baseline period. One possible reason for this is that customers are only sent the informational promotion if they do not make a purchase over a certain number of days. Another possibility is that there is some data quality issue causing this result. In either case, it is a result that warrants further investigation.\n",
    "\n",
    "Below I run t-tests to ensure that the results above are statistically significant. Not surprisingly, all of the results are statistically significant:"
   ]
  },
  {
   "cell_type": "code",
   "execution_count": 18,
   "metadata": {},
   "outputs": [
    {
     "data": {
      "text/plain": [
       "Ttest_indResult(statistic=19.886633553072777, pvalue=1.8604958755337624e-81)"
      ]
     },
     "execution_count": 18,
     "metadata": {},
     "output_type": "execute_result"
    }
   ],
   "source": [
    "# Informational promotions: t-test\n",
    "info_control = analysis_dataset['spend'][(analysis_dataset['offer_type']=='informational') &\n",
    "                                         (analysis_dataset['test_flag']==0)]\n",
    "\n",
    "info_test = analysis_dataset['spend'][(analysis_dataset['offer_type']=='informational') &\n",
    "                                      (analysis_dataset['test_flag']==1)]\n",
    "\n",
    "stats.ttest_ind(info_test, info_control)"
   ]
  },
  {
   "cell_type": "code",
   "execution_count": 19,
   "metadata": {},
   "outputs": [
    {
     "data": {
      "text/plain": [
       "Ttest_indResult(statistic=12.495516748269106, pvalue=2.025111035867442e-35)"
      ]
     },
     "execution_count": 19,
     "metadata": {},
     "output_type": "execute_result"
    }
   ],
   "source": [
    "# BOGO promotions: t-test\n",
    "bogo_control = analysis_dataset['spend'][(analysis_dataset['offer_type']=='bogo') &\n",
    "                                         (analysis_dataset['test_flag']==0)]\n",
    "\n",
    "bogo_test = analysis_dataset['spend'][(analysis_dataset['offer_type']=='bogo') &\n",
    "                                      (analysis_dataset['test_flag']==1)]\n",
    "\n",
    "stats.ttest_ind(bogo_test, bogo_control)\n"
   ]
  },
  {
   "cell_type": "code",
   "execution_count": 20,
   "metadata": {},
   "outputs": [
    {
     "name": "stdout",
     "output_type": "stream",
     "text": [
      "4.39\n",
      "11.3\n"
     ]
    },
    {
     "data": {
      "text/plain": [
       "Ttest_indResult(statistic=15.021318172108783, pvalue=2.350182851861004e-50)"
      ]
     },
     "execution_count": 20,
     "metadata": {},
     "output_type": "execute_result"
    }
   ],
   "source": [
    "# Discount promotions: t-test\n",
    "discount_control = analysis_dataset['spend'][(analysis_dataset['offer_type']=='discount') &\n",
    "                                         (analysis_dataset['test_flag']==0)]\n",
    "\n",
    "discount_test = analysis_dataset['spend'][(analysis_dataset['offer_type']=='discount') &\n",
    "                                      (analysis_dataset['test_flag']==1)]\n",
    "\n",
    "print(round(discount_control.mean(), 2))\n",
    "print(round(discount_test.mean(), 2))\n",
    "\n",
    "stats.ttest_ind(discount_test, discount_control)"
   ]
  },
  {
   "cell_type": "markdown",
   "metadata": {},
   "source": [
    "## Drill down into subgroups"
   ]
  },
  {
   "cell_type": "markdown",
   "metadata": {},
   "source": [
    "We can do a basic subgroup breakdown for each offer type, looking at how the impacts vary according to gender, age, and income. To enable a subgroup analysis, I segment customers into \"high\" and \"low\" income and \"high\" and \"low\" age groups. The income line is set at $60,000 which is roughly the mode for the population, and the age line is set at 60, which is roughly the mode for the population. "
   ]
  },
  {
   "cell_type": "code",
   "execution_count": 21,
   "metadata": {},
   "outputs": [
    {
     "data": {
      "text/html": [
       "<div>\n",
       "<style scoped>\n",
       "    .dataframe tbody tr th:only-of-type {\n",
       "        vertical-align: middle;\n",
       "    }\n",
       "\n",
       "    .dataframe tbody tr th {\n",
       "        vertical-align: top;\n",
       "    }\n",
       "\n",
       "    .dataframe thead th {\n",
       "        text-align: right;\n",
       "    }\n",
       "</style>\n",
       "<table border=\"1\" class=\"dataframe\">\n",
       "  <thead>\n",
       "    <tr style=\"text-align: right;\">\n",
       "      <th></th>\n",
       "      <th>person</th>\n",
       "      <th>offer_type</th>\n",
       "      <th>age</th>\n",
       "      <th>gender</th>\n",
       "      <th>income</th>\n",
       "      <th>test_flag</th>\n",
       "      <th>baseline_start</th>\n",
       "      <th>offer_start</th>\n",
       "      <th>offer_end</th>\n",
       "      <th>time</th>\n",
       "      <th>spend</th>\n",
       "    </tr>\n",
       "  </thead>\n",
       "  <tbody>\n",
       "    <tr>\n",
       "      <th>0</th>\n",
       "      <td>0009655768c64bdeb2e877511632db8f</td>\n",
       "      <td>discount</td>\n",
       "      <td>33.0</td>\n",
       "      <td>M</td>\n",
       "      <td>72000.0</td>\n",
       "      <td>0.0</td>\n",
       "      <td>0.0</td>\n",
       "      <td>0.0</td>\n",
       "      <td>0.0</td>\n",
       "      <td>0.0</td>\n",
       "      <td>0.00</td>\n",
       "    </tr>\n",
       "    <tr>\n",
       "      <th>1</th>\n",
       "      <td>0009655768c64bdeb2e877511632db8f</td>\n",
       "      <td>discount</td>\n",
       "      <td>33.0</td>\n",
       "      <td>M</td>\n",
       "      <td>72000.0</td>\n",
       "      <td>1.0</td>\n",
       "      <td>569.0</td>\n",
       "      <td>576.0</td>\n",
       "      <td>582.0</td>\n",
       "      <td>576.0</td>\n",
       "      <td>10.27</td>\n",
       "    </tr>\n",
       "    <tr>\n",
       "      <th>2</th>\n",
       "      <td>003d66b6608740288d6cc97a6903f4f0</td>\n",
       "      <td>discount</td>\n",
       "      <td>26.0</td>\n",
       "      <td>F</td>\n",
       "      <td>73000.0</td>\n",
       "      <td>0.0</td>\n",
       "      <td>398.0</td>\n",
       "      <td>408.0</td>\n",
       "      <td>417.0</td>\n",
       "      <td>402.0</td>\n",
       "      <td>5.94</td>\n",
       "    </tr>\n",
       "    <tr>\n",
       "      <th>3</th>\n",
       "      <td>003d66b6608740288d6cc97a6903f4f0</td>\n",
       "      <td>discount</td>\n",
       "      <td>26.0</td>\n",
       "      <td>F</td>\n",
       "      <td>73000.0</td>\n",
       "      <td>1.0</td>\n",
       "      <td>494.0</td>\n",
       "      <td>504.0</td>\n",
       "      <td>513.0</td>\n",
       "      <td>504.0</td>\n",
       "      <td>5.01</td>\n",
       "    </tr>\n",
       "    <tr>\n",
       "      <th>4</th>\n",
       "      <td>00426fe3ffde4c6b9cb9ad6d077a13ea</td>\n",
       "      <td>discount</td>\n",
       "      <td>19.0</td>\n",
       "      <td>F</td>\n",
       "      <td>65000.0</td>\n",
       "      <td>0.0</td>\n",
       "      <td>0.0</td>\n",
       "      <td>0.0</td>\n",
       "      <td>0.0</td>\n",
       "      <td>0.0</td>\n",
       "      <td>0.00</td>\n",
       "    </tr>\n",
       "  </tbody>\n",
       "</table>\n",
       "</div>"
      ],
      "text/plain": [
       "                             person offer_type   age gender   income  \\\n",
       "0  0009655768c64bdeb2e877511632db8f   discount  33.0      M  72000.0   \n",
       "1  0009655768c64bdeb2e877511632db8f   discount  33.0      M  72000.0   \n",
       "2  003d66b6608740288d6cc97a6903f4f0   discount  26.0      F  73000.0   \n",
       "3  003d66b6608740288d6cc97a6903f4f0   discount  26.0      F  73000.0   \n",
       "4  00426fe3ffde4c6b9cb9ad6d077a13ea   discount  19.0      F  65000.0   \n",
       "\n",
       "   test_flag  baseline_start  offer_start  offer_end   time  spend  \n",
       "0        0.0             0.0          0.0        0.0    0.0   0.00  \n",
       "1        1.0           569.0        576.0      582.0  576.0  10.27  \n",
       "2        0.0           398.0        408.0      417.0  402.0   5.94  \n",
       "3        1.0           494.0        504.0      513.0  504.0   5.01  \n",
       "4        0.0             0.0          0.0        0.0    0.0   0.00  "
      ]
     },
     "execution_count": 21,
     "metadata": {},
     "output_type": "execute_result"
    }
   ],
   "source": [
    "analysis_dataset.head()"
   ]
  },
  {
   "cell_type": "code",
   "execution_count": 22,
   "metadata": {},
   "outputs": [],
   "source": [
    "# Create binary customer demographic segments for age and income\n",
    "results = pd.DataFrame(columns=['demog_category', 'attribute', 'group', 'spend'])\n",
    "age_split = 60\n",
    "income_split = 50000\n",
    "\n",
    "analysis_dataset['age_cat'] = np.nan\n",
    "analysis_dataset['age_cat'][analysis_dataset['age'] < age_split] = \"Low\"\n",
    "analysis_dataset['age_cat'][analysis_dataset['age'] >= age_split] = \"High\"\n",
    "\n",
    "analysis_dataset['income_cat'] = np.nan\n",
    "analysis_dataset['income_cat'][analysis_dataset['income'] < income_split] = \"Low\"\n",
    "analysis_dataset['income_cat'][analysis_dataset['income'] >= income_split] = \"High\""
   ]
  },
  {
   "cell_type": "markdown",
   "metadata": {},
   "source": [
    "With the binary age and income variables established, I can further segment the dollar impacts along these dimensions."
   ]
  },
  {
   "cell_type": "code",
   "execution_count": 26,
   "metadata": {},
   "outputs": [
    {
     "data": {
      "image/png": "[encoded data removed]",
      "text/plain": [
       "<Figure size 432x288 with 1 Axes>"
      ]
     },
     "metadata": {
      "needs_background": "light"
     },
     "output_type": "display_data"
    },
    {
     "data": {
      "image/png": "[encoded data removed]",
      "text/plain": [
       "<Figure size 432x288 with 1 Axes>"
      ]
     },
     "metadata": {
      "needs_background": "light"
     },
     "output_type": "display_data"
    },
    {
     "data": {
      "image/png": "[encoded data removed]",
      "text/plain": [
       "<Figure size 432x288 with 1 Axes>"
      ]
     },
     "metadata": {
      "needs_background": "light"
     },
     "output_type": "display_data"
    }
   ],
   "source": [
    "# Generate comparisons for each offer type by gender \n",
    "\n",
    "gender = analysis_dataset[['offer_type', 'gender', 'test_flag', 'spend']].groupby(['offer_type', 'gender', 'test_flag'], as_index=False).mean()\n",
    "\n",
    "gender['demog_category'] = 'gender'\n",
    "gender = gender[['offer_type', 'demog_category', 'gender', 'test_flag', 'spend']]\n",
    "gender.columns = ['offer_type', 'demog_category', 'attribute', 'test_flag', 'spend']\n",
    "gender = gender[gender['attribute'] != 'Unknown']\n",
    "\n",
    "gender[gender['offer_type']=='bogo'].pivot('attribute', 'test_flag',  'spend').plot(kind='bar')\n",
    "plt.title('Average BOGO Impact by Gender')\n",
    "plt.xlabel('Gender')\n",
    "plt.ylabel('Sales per Customer ($)')\n",
    "plt.grid(axis='y', alpha=0.75)\n",
    "\n",
    "gender[gender['offer_type']=='discount'].pivot('attribute', 'test_flag',  'spend').plot(kind='bar')\n",
    "plt.title('Average Discount Impact by Gender')\n",
    "plt.xlabel('Gender')\n",
    "plt.ylabel('Sales per Customer ($)')\n",
    "plt.grid(axis='y', alpha=0.75)\n",
    "\n",
    "gender[gender['offer_type']=='informational'].pivot('attribute', 'test_flag',  'spend').plot(kind='bar')\n",
    "plt.title('Average Informational Impact by Gender')\n",
    "plt.xlabel('Gender')\n",
    "plt.ylabel('Sales per Customer ($)')\n",
    "plt.grid(axis='y', alpha=0.75)"
   ]
  },
  {
   "cell_type": "code",
   "execution_count": 27,
   "metadata": {},
   "outputs": [
    {
     "data": {
      "image/png": "[encoded data removed]",
      "text/plain": [
       "<Figure size 432x288 with 1 Axes>"
      ]
     },
     "metadata": {
      "needs_background": "light"
     },
     "output_type": "display_data"
    },
    {
     "data": {
      "image/png": "[encoded data removed]",
      "text/plain": [
       "<Figure size 432x288 with 1 Axes>"
      ]
     },
     "metadata": {
      "needs_background": "light"
     },
     "output_type": "display_data"
    },
    {
     "data": {
      "image/png": "[encoded data removed]",
      "text/plain": [
       "<Figure size 432x288 with 1 Axes>"
      ]
     },
     "metadata": {
      "needs_background": "light"
     },
     "output_type": "display_data"
    }
   ],
   "source": [
    "# Generate comparisons for each offer type by income \n",
    "\n",
    "income = analysis_dataset[['offer_type', 'income_cat', 'test_flag', 'spend']].groupby(['offer_type', 'income_cat', 'test_flag'], as_index=False).mean()\n",
    "\n",
    "income['demog_category'] = 'income'\n",
    "income = income[['offer_type', 'demog_category', 'income_cat', 'test_flag', 'spend']]\n",
    "income.columns = ['offer_type', 'demog_category', 'attribute', 'test_flag', 'spend']\n",
    "income = income[income['attribute'] != 'Unknown']\n",
    "\n",
    "income[income['offer_type']=='bogo'].pivot('attribute', 'test_flag',  'spend').plot(kind='bar')\n",
    "plt.title('Average BOGO Impact by Income')\n",
    "plt.xlabel('Income')\n",
    "plt.ylabel('Sales per Customer ($)')\n",
    "plt.grid(axis='y', alpha=0.75)\n",
    "\n",
    "income[income['offer_type']=='discount'].pivot('attribute', 'test_flag',  'spend').plot(kind='bar')\n",
    "plt.title('Average Discount Impact by Income')\n",
    "plt.xlabel('Income')\n",
    "plt.ylabel('Sales per Customer ($)')\n",
    "plt.grid(axis='y', alpha=0.75)\n",
    "\n",
    "income[income['offer_type']=='informational'].pivot('attribute', 'test_flag',  'spend').plot(kind='bar')\n",
    "plt.title('Average Informational Impact by Income')\n",
    "plt.xlabel('Income')\n",
    "plt.ylabel('Sales per Customer ($)')\n",
    "plt.grid(axis='y', alpha=0.75)\n"
   ]
  },
  {
   "cell_type": "code",
   "execution_count": 28,
   "metadata": {},
   "outputs": [
    {
     "data": {
      "image/png": "[encoded data removed]",
      "text/plain": [
       "<Figure size 432x288 with 1 Axes>"
      ]
     },
     "metadata": {
      "needs_background": "light"
     },
     "output_type": "display_data"
    },
    {
     "data": {
      "image/png": "[encoded data removed]",
      "text/plain": [
       "<Figure size 432x288 with 1 Axes>"
      ]
     },
     "metadata": {
      "needs_background": "light"
     },
     "output_type": "display_data"
    },
    {
     "data": {
      "image/png": "[encoded data removed]",
      "text/plain": [
       "<Figure size 432x288 with 1 Axes>"
      ]
     },
     "metadata": {
      "needs_background": "light"
     },
     "output_type": "display_data"
    }
   ],
   "source": [
    "# Generate comparisons for each offer type by age\n",
    "\n",
    "age = analysis_dataset[['offer_type', 'age_cat', 'test_flag', 'spend']].groupby(['offer_type', 'age_cat', 'test_flag'], as_index=False).mean()\n",
    "\n",
    "age['demog_category'] = 'age'\n",
    "age = age[['offer_type', 'demog_category', 'age_cat', 'test_flag', 'spend']]\n",
    "age.columns = ['offer_type', 'demog_category', 'attribute', 'test_flag', 'spend']\n",
    "age = age[age['attribute'] != 'Unknown']\n",
    "\n",
    "age[age['offer_type']=='bogo'].pivot('attribute', 'test_flag',  'spend').plot(kind='bar')\n",
    "plt.title('Average BOGO Impact by Age')\n",
    "plt.xlabel('Age')\n",
    "plt.ylabel('Sales per Customer ($)')\n",
    "plt.grid(axis='y', alpha=0.75)\n",
    "\n",
    "age[age['offer_type']=='discount'].pivot('attribute', 'test_flag',  'spend').plot(kind='bar')\n",
    "plt.title('Average Discount Impact by Age')\n",
    "plt.xlabel('Age')\n",
    "plt.ylabel('Sales per Customer ($)')\n",
    "plt.grid(axis='y', alpha=0.75)\n",
    "\n",
    "age[age['offer_type']=='informational'].pivot('attribute', 'test_flag',  'spend').plot(kind='bar')\n",
    "plt.title('Average Informational Impact by Age')\n",
    "plt.xlabel('Age')\n",
    "plt.ylabel('Sales per Customer ($)')\n",
    "plt.grid(axis='y', alpha=0.75)\n"
   ]
  },
  {
   "cell_type": "markdown",
   "metadata": {},
   "source": [
    "The above results reveal a couple notable findings:\n",
    "\n",
    "- Female and male customers have similar baseline spending habits, but female customers respond much more strongly to BOGO offers. Female customers also respond more strongly to discount and informational offers, however the difference is most pronounced for BOGO offers.\n",
    "- Higher income customers have higher baseline spending habits and respond more strongly to promotional offers\n",
    "- Segmenting by age does not reveal significant differences in baseline spending habits or promotional offer response.\n",
    "\n",
    "These findings suggest that promotions are particularly effective among higher income female customers, although it is clear that this segment of the customer population is not the only group that is shown to respond to the promotional offers."
   ]
  },
  {
   "cell_type": "markdown",
   "metadata": {},
   "source": [
    "# Conclusion"
   ]
  },
  {
   "cell_type": "markdown",
   "metadata": {},
   "source": [
    "This analysis set out to understand whether Starbucks' promotional offers affect customer spending habits. A within-subjects analysis was used to compare customers' purchase history during offer periods to their baseline periods, which were defined as the time period prior to customers receiving a promotion.\n",
    "\n",
    "We can confidently conclude that the promotions do have a statistically significant and substantive impact on customer spending habits. All three offer types appear to drive higher customer purchasing activity. Looking within subgroups, female and high income customers respond most strongly to the offers. \n",
    "\n",
    "### Reflection\n",
    "This was an interesting project that involved relatively complex data and required me to think through different methodological tradeoffs. I needed to figure out where to simplify the data and analysis in order to come up with a methodology that would be practical and understandable. \n",
    "\n",
    "For example, I chose to focus on the three broad offer types instead of the 10 individual offers. And I chose to focus on customer spend as the key metric of interest as opposed to offer completion. I made these choices in part to address the relatively low sample sizes provided and mitigate the odds of arriving at false positive results. \n",
    "\n",
    "I also chose the within-subjects approach to estimate causal impacts, which seemed most practical given the nature of the data, with customers receiving offers at various times across the entire time series. \n",
    "\n",
    "### Improvement\n",
    "There are several opportunities for further analysis. More nuanced customer segmentation approaches could be used to better understand how groups respond differently to the offers (however it would be necessary to avoid splitting the population into too many groups, which would lead to smaller sample sizes). It could also be worth looking at specific offers within an offer type in order to better understand what aspects of the promotions (e.g. incentive size, offer duration) can also influence customer behavior."
   ]
  },
  {
   "cell_type": "code",
   "execution_count": null,
   "metadata": {},
   "outputs": [],
   "source": []
  }
 ],
 "metadata": {
  "kernelspec": {
   "display_name": "Python 3",
   "language": "python",
   "name": "python3"
  },
  "language_info": {
   "codemirror_mode": {
    "name": "ipython",
    "version": 3
   },
   "file_extension": ".py",
   "mimetype": "text/x-python",
   "name": "python",
   "nbconvert_exporter": "python",
   "pygments_lexer": "ipython3",
   "version": "3.8.5"
  }
 },
 "nbformat": 4,
 "nbformat_minor": 2
}
